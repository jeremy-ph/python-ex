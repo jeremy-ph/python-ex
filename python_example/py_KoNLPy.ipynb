{
 "cells": [
  {
   "cell_type": "code",
   "execution_count": 1,
   "metadata": {},
   "outputs": [
    {
     "name": "stdout",
     "output_type": "stream",
     "text": [
      "['아버지', '가', '방', '에', '들어가', '시', 'ㄴ다', '.']\n",
      "[('아버지', 'NNG'), ('가', 'JKS'), ('방', 'NNG'), ('에', 'JKM'), ('들어가', 'VV'), ('시', 'EPH'), ('ㄴ다', 'EFN'), ('.', 'SF')]\n",
      "['아버지', '방']\n",
      "['오늘 날씨는 어 때요?', '내일은 덥다 던데.']\n"
     ]
    }
   ],
   "source": [
    "from konlpy.tag import Kkma\n",
    "# KoNLPy 코엔엘파이 라이브러리 (한국어 자연어 처리)\n",
    "\n",
    "# 꼬꼬마 형태소 분석기 객체 생성\n",
    "kkma = Kkma()\n",
    "\n",
    "text = \"아버지가 방에 들어가신다.\"\n",
    "# 형태소 추출 morphs - 인자로 문장을 형태소 단위로 토크나이징. 리스트 형태로 반환\n",
    "morphs = kkma.morphs(text)\n",
    "print(morphs)\n",
    "\n",
    "# 형태소와 품사 태그 추출 pos - POS tagger, 형태소를 추출한 뒤 품사 태깅, 추출된 형태소와 품사가 튜플 형태로 묶여서 리스트로 반환\n",
    "pos = kkma.pos(text)\n",
    "print(pos)\n",
    "\n",
    "# 명사만 추출 nouns - 인자로 입력한 문장에서 품사가 명사인 토큰만 추출\n",
    "nouns = kkma.nouns(text)\n",
    "print(nouns)\n",
    "\n",
    "# 문장 분리 sentences - 여러 문장을 분리해주는 역할. 리스트 형태로 반환\n",
    "sentences = \"오늘 날씨는 어때요? 내일은 덥다던데.\"\n",
    "s = kkma.sentences(sentences)\n",
    "print(s)\n"
   ]
  },
  {
   "cell_type": "code",
   "execution_count": 2,
   "metadata": {},
   "outputs": [
    {
     "name": "stdout",
     "output_type": "stream",
     "text": [
      "['아버지', '가', '방', '에', '들어가', '시', 'ㄴ다', '.']\n",
      "[('아버지', 'NNG'), ('가', 'JKS'), ('방', 'NNG'), ('에', 'JKB'), ('들어가', 'VV'), ('시', 'EP'), ('ㄴ다', 'EF'), ('.', 'SF')]\n",
      "['아버지', '방']\n"
     ]
    }
   ],
   "source": [
    "from konlpy.tag import Komoran\n",
    "# pip install PyKomoran (설치)\n",
    "\n",
    "# 코모란 형태소 분석기 객체 생성\n",
    "komoran  = Komoran()\n",
    "\n",
    "text = \"아버지가 방에 들어가신다.\"\n",
    "\n",
    "# 형태소 추출 - morphs 문장을 형태소 단위로 토크나이징. 리스트 형태로 반환\n",
    "morphs = komoran.morphs(text)\n",
    "print(morphs)\n",
    "\n",
    "# 형태소와 품사 태그 추출 - pos POS tagger, 문장에서 형태소를 추출한 뒤 품사 태깅. 튜플 형태로 묶여서 리스트로 반환\n",
    "pos = komoran.pos(text)\n",
    "print(pos)\n",
    "\n",
    "# 명사만 추출 - nonus 문장에서 품사가 명사인 토큰들만 추출\n",
    "nouns = komoran.nouns(text)\n",
    "print(nouns)"
   ]
  },
  {
   "cell_type": "code",
   "execution_count": 4,
   "metadata": {},
   "outputs": [
    {
     "name": "stdout",
     "output_type": "stream",
     "text": [
      "['아버지', '가', '방', '에', '들어가신다', '.']\n",
      "[('아버지', 'Noun'), ('가', 'Josa'), ('방', 'Noun'), ('에', 'Josa'), ('들어가신다', 'Verb'), ('.', 'Punctuation')]\n",
      "['아버지', '방']\n",
      "오늘 날씨가 좋아요ㅋㅋ\n",
      "['오늘', '오늘 날씨', '좋아욬', '날씨']\n"
     ]
    }
   ],
   "source": [
    "from konlpy.tag import Okt\n",
    "# Okt는 띄어쓰기가 어느 정도 되어 있는 문장을 빠르게 분석할때 많이 사용\n",
    "\n",
    "# Okt 형태소 분석기 객체 생성\n",
    "okt = Okt()\n",
    "\n",
    "text = \"아버지가 방에 들어가신다.\"\n",
    "\n",
    "# 형태소 추출 - morphs 문장을 형태소 단위로 토크나이징. 리스트 형태로 반환\n",
    "morphs = okt.morphs(text)\n",
    "print(morphs)\n",
    "\n",
    "# 형태소와 품사 태그 추출 pos - POS tagger, 형태소를 추출한 뒤 품사 태깅, 추출된 형태소와 품사가 튜플 형태로 묶여서 리스트로 반환\n",
    "pos = okt.pos(text)\n",
    "print(pos)\n",
    "\n",
    "# 명사만 추출 - nonus 문장에서 품사가 명사인 토큰들만 추출\n",
    "nouns = okt.nouns(text)\n",
    "print(nouns)\n",
    "\n",
    "# 정규화, 어구 추출 - mormalize 입력한 문장을 정규화시킨다.(사랑햌ㅋ => 사랑해ㅋㅋ), phrase 문장의 어구를 추출 (오늘 날씨가 좋아요 => '오늘', '오늘 날씨', '날씨')\n",
    "text = \"오늘 날씨가 좋아욬ㅋㅋ\"\n",
    "print(okt.normalize(text))\n",
    "print(okt.phrases(text))"
   ]
  },
  {
   "cell_type": "code",
   "execution_count": 5,
   "metadata": {},
   "outputs": [
    {
     "name": "stdout",
     "output_type": "stream",
     "text": [
      "[('코리', 'NNP'), ('우리', 'NP'), ('챗봇은', 'NA'), ('엔', 'NNB'), ('엘', 'NNP'), ('피', 'NNG'), ('를', 'JKO'), ('좋아하', 'VV'), ('ㅂ니다', 'EF'), ('.', 'SF')]\n"
     ]
    }
   ],
   "source": [
    "from konlpy.tag import Komoran\n",
    "\n",
    "komoran = Komoran(userdic='./python_ex19.tsv')\n",
    "text = \"코리 우리 챗봇은 엔엘피를 좋아합니다.\"\n",
    "pos = komoran.pos(text)\n",
    "print(pos) "
   ]
  },
  {
   "cell_type": "code",
   "execution_count": null,
   "metadata": {},
   "outputs": [],
   "source": []
  }
 ],
 "metadata": {
  "kernelspec": {
   "display_name": "Python 3",
   "language": "python",
   "name": "python3"
  },
  "language_info": {
   "codemirror_mode": {
    "name": "ipython",
    "version": 3
   },
   "file_extension": ".py",
   "mimetype": "text/x-python",
   "name": "python",
   "nbconvert_exporter": "python",
   "pygments_lexer": "ipython3",
   "version": "3.6.9"
  }
 },
 "nbformat": 4,
 "nbformat_minor": 2
}

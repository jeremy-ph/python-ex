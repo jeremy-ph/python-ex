{
 "cells": [
  {
   "cell_type": "code",
   "execution_count": 5,
   "id": "2105ab85",
   "metadata": {},
   "outputs": [
    {
     "name": "stdout",
     "output_type": "stream",
     "text": [
      "Epoch 1/10\n",
      "2100/2100 [==============================] - 7s 3ms/step - loss: 1.4510 - accuracy: 0.5420 - val_loss: 0.4175 - val_accuracy: 0.8773\n",
      "Epoch 2/10\n",
      "2100/2100 [==============================] - 5s 3ms/step - loss: 0.3930 - accuracy: 0.8900 - val_loss: 0.3243 - val_accuracy: 0.9083\n",
      "Epoch 3/10\n",
      "2100/2100 [==============================] - 6s 3ms/step - loss: 0.3188 - accuracy: 0.9103 - val_loss: 0.2951 - val_accuracy: 0.9152\n",
      "Epoch 4/10\n",
      "2100/2100 [==============================] - 6s 3ms/step - loss: 0.2858 - accuracy: 0.9222 - val_loss: 0.2586 - val_accuracy: 0.9272\n",
      "Epoch 5/10\n",
      "2100/2100 [==============================] - 6s 3ms/step - loss: 0.2563 - accuracy: 0.9277 - val_loss: 0.2422 - val_accuracy: 0.9321\n",
      "Epoch 6/10\n",
      "2100/2100 [==============================] - 6s 3ms/step - loss: 0.2387 - accuracy: 0.9332 - val_loss: 0.2288 - val_accuracy: 0.9353\n",
      "Epoch 7/10\n",
      "2100/2100 [==============================] - 7s 3ms/step - loss: 0.2156 - accuracy: 0.9388 - val_loss: 0.2140 - val_accuracy: 0.9382\n",
      "Epoch 8/10\n",
      "2100/2100 [==============================] - 5s 2ms/step - loss: 0.1977 - accuracy: 0.9424 - val_loss: 0.1980 - val_accuracy: 0.9434\n",
      "Epoch 9/10\n",
      "2100/2100 [==============================] - 6s 3ms/step - loss: 0.1931 - accuracy: 0.9448 - val_loss: 0.1992 - val_accuracy: 0.9432\n",
      "Epoch 10/10\n",
      "2100/2100 [==============================] - 6s 3ms/step - loss: 0.1829 - accuracy: 0.9470 - val_loss: 0.1924 - val_accuracy: 0.9454\n",
      "모델 평가\n",
      "313/313 [==============================] - 1s 3ms/step - loss: 0.1921 - accuracy: 0.9446\n",
      "Model: \"sequential_2\"\n",
      "_________________________________________________________________\n",
      "Layer (type)                 Output Shape              Param #   \n",
      "=================================================================\n",
      "flatten_2 (Flatten)          (None, 784)               0         \n",
      "_________________________________________________________________\n",
      "dense_6 (Dense)              (None, 20)                15700     \n",
      "_________________________________________________________________\n",
      "dense_7 (Dense)              (None, 20)                420       \n",
      "_________________________________________________________________\n",
      "dense_8 (Dense)              (None, 10)                210       \n",
      "=================================================================\n",
      "Total params: 16,330\n",
      "Trainable params: 16,330\n",
      "Non-trainable params: 0\n",
      "_________________________________________________________________\n"
     ]
    },
    {
     "data": {
      "image/png": "[encoded data removed]",
      "text/plain": [
       "<Figure size 432x288 with 2 Axes>"
      ]
     },
     "metadata": {
      "needs_background": "light"
     },
     "output_type": "display_data"
    }
   ],
   "source": [
    "# 필요한 모듈 임포트 - tensorflow와 matplotlib.pyplot 모듈 불러오기\n",
    "import tensorflow as tf\n",
    "import matplotlib.pyplot as plt\n",
    "from tensorflow.keras.datasets import mnist\n",
    "from tensorflow.keras.models import Sequential\n",
    "from tensorflow.keras.layers import Flatten, Dense\n",
    "\n",
    "# MNIST 데이터셋 가져오기 - 데이터를 정규화하는 부분\n",
    "# 텐서플로에서 MNIST데이터셋을 기본적으로 load_data()함수를 이용해 학습데이터 600,000개와 테스트데이터셋 10,000를 다운 후 넘파이 배열 형태로 가져옴\n",
    "# 이때 x_train에 학습에 필요한 60,000장의 숫자 이미지(28*28) 데이터가 저장\n",
    "# y_train에는 60,000장의 숫자 이미지의 라벨링된 실제 숫자값이 저장\n",
    "(x_train, y_train), (x_test, y_test) = mnist.load_data()\n",
    "x_train, x_test = x_train / 255.0, x_test / 255.0 # 데이터 정규화   \n",
    "\n",
    "# tf.data를 사용하여 데이터셋을 섞고 배치 만들기\n",
    "# 학습용 데이터셋과 검증용 데이터셋을 7:3 비율로 나눠 데이터셋 객체를 생성\n",
    "ds = tf.data.Dataset.from_tensor_slices((x_train, y_train)).shuffle(10000)\n",
    "train_size = int(len(x_train) * 0.7) # 학습셋:검증셋 = 7:3\n",
    "train_ds = ds.take(train_size).batch(20)\n",
    "val_ds = ds.skip(train_size).batch(20)\n",
    "\n",
    "# MNIST 분류 모델 구성\n",
    "# 입력층 1개와 은닉층 2개, 출력층 1개로 구성된 간단한 심층 신경망\n",
    "# 신경망의 입력층으로 Flatten()을 사용, Flatten 계층은 28x28 크기의 2차원 이미지를 1차원으로 평탄화 시킴\n",
    "# 가로와 세로로 표현된 2차원 배열을 일렬로 나열해 1차원으로 만듬.(신경망의 뉴럴이 784개)\n",
    "# 입력층에서 활성화 함수 없이 입력된 데이터 그대로 다음 은닉층으로 전달\n",
    "# 2개의 은닉층은 Dense()를 사용해 출력 크기가 20, 활성함수로 ReLU를 사용하도록 함\n",
    "# 활성함수로 Softmax를 사용하는 출력층을 만듬\n",
    "# 숫자 이미지를 판별해야 하는 값은 0~9까지 총 10가지 이기때문에 출력층의 크기를 10으로 지정\n",
    "# 입력층 Flatten을 제외한 나머지 층에서는 입력크기를 따로 지정하지 않음. \n",
    "# 케라스에서는 이전 층의 출력 갯수로 입력 크기를 자동 계산하기에 생략 가능 \n",
    "# softmax 함수는 입력받은 값을 출력으로 0~1 사이의 값으로 정규화함.\n",
    "# 이 함수는 출력값들의 총합이 항상 1이 되는 특징을 갖고 있어 결과를 확률로 표현할 수 잇다.\n",
    "# 분류하고 싶은 클래스 갯수만큼 출력으로 구성하며 가장 큰 출력값을 가지는 클래스가 결과값으로 사용\n",
    "model = Sequential()\n",
    "model.add(Flatten(input_shape=(28, 28)))\n",
    "model.add(Dense(20, activation='relu'))\n",
    "model.add(Dense(20, activation='relu'))\n",
    "model.add(Dense(10, activation='softmax'))\n",
    "\n",
    "\n",
    "# 모델 생성\n",
    "# 모델의 출력값과 실제 장답의 오차를 계산하는 손실 함수로는 sparse_categorical_crossentropy를 사용하며, \n",
    "# 오차를 보정하는 옵티마이저로는 SGD를 사용, 모델의 성능을 평가하는 데 사용하는 측정 항목은 accuracy를 사용함\n",
    "model.compile(loss='sparse_categorical_crossentropy', optimizer='sgd', metrics=['accuracy'])\n",
    "# model.compile(loss='categorical_crossentropy', optimizer='sgd', metrics=['accuracy])\n",
    "\n",
    "# 모델 학습 - fit() 함수의 인자로는 학습에 필요한 데이터셋, 검증에 필요한 데이터셋, 에포크값(학습 횟수)을 사용\n",
    "hist = model.fit(train_ds, validation_data=val_ds, epochs=10)\n",
    "\n",
    "# 모델 평가 - evaluate() 함수를 이용해 성능을 평가\n",
    "print('모델 평가')\n",
    "model.evaluate(x_test, y_test)\n",
    "\n",
    "# 모델 정보 출력 - 신경망 모델의 정보를 출력. 정의한 모델의 구성요소(계층종류, 출력형태)\n",
    "model.summary()\n",
    "\n",
    "#모델 저장 - h5 파일 포맷으로 저장\n",
    "model.save('mnist_model.h5')\n",
    "\n",
    "# 학습 결과 그래프 그리기 - 그래프에는 손실값loss과 학습 정확도 accuracy를 보여준다\n",
    "# x축은 에포크(학습 횟수)를 의미, y축은 손실값과 정확도를 의미\n",
    "# 학습 횟수가 증가할수록 학습과 검증 데이터의 정확도가 올라가고, 손실값은 감소\n",
    "# 에포크값을 너무 크게 부여하면 오버피팅이 발생함.\n",
    "fig, loss_ax = plt.subplots()\n",
    "acc_ax = loss_ax.twinx()\n",
    "\n",
    "loss_ax.plot(hist.history['loss'], 'y', label='train loss')\n",
    "loss_ax.plot(hist.history['val_loss'], 'r', label='val loss')\n",
    "\n",
    "acc_ax.plot(hist.history['accuracy'], 'b', label='train acc')\n",
    "acc_ax.plot(hist.history['val_accuracy'], 'g', label='val acc')\n",
    "\n",
    "loss_ax.set_xlabel('epoch')\n",
    "loss_ax.set_ylabel('loss')\n",
    "\n",
    "acc_ax.set_ylabel('accuracy')\n",
    "\n",
    "loss_ax.legend(loc='upper left')\n",
    "acc_ax.legend(loc='lower left')\n",
    "plt.show()\n",
    "\n",
    "\n",
    "\n",
    "\n",
    "\n",
    "\n"
   ]
  },
  {
   "cell_type": "code",
   "execution_count": 6,
   "id": "dee96c60",
   "metadata": {},
   "outputs": [
    {
     "name": "stdout",
     "output_type": "stream",
     "text": [
      "Model: \"sequential_2\"\n",
      "_________________________________________________________________\n",
      "Layer (type)                 Output Shape              Param #   \n",
      "=================================================================\n",
      "flatten_2 (Flatten)          (None, 784)               0         \n",
      "_________________________________________________________________\n",
      "dense_6 (Dense)              (None, 20)                15700     \n",
      "_________________________________________________________________\n",
      "dense_7 (Dense)              (None, 20)                420       \n",
      "_________________________________________________________________\n",
      "dense_8 (Dense)              (None, 10)                210       \n",
      "=================================================================\n",
      "Total params: 16,330\n",
      "Trainable params: 16,330\n",
      "Non-trainable params: 0\n",
      "_________________________________________________________________\n",
      "313/313 - 0s - loss: 0.1921 - accuracy: 0.9446\n"
     ]
    },
    {
     "data": {
      "image/png": "[encoded data removed]",
      "text/plain": [
       "<Figure size 432x288 with 1 Axes>"
      ]
     },
     "metadata": {
      "needs_background": "light"
     },
     "output_type": "display_data"
    },
    {
     "name": "stdout",
     "output_type": "stream",
     "text": [
      "손글씨 이미지 예측값 :  [9]\n"
     ]
    }
   ],
   "source": [
    "# MNIST 분류 보델 사용하기\n",
    "from tensorflow.keras.datasets import mnist\n",
    "from tensorflow.keras.models import load_model\n",
    "import matplotlib.pyplot as plt\n",
    "\n",
    "# MNIST 데이터셋 가져오기\n",
    "_, (x_test, y_test) = mnist.load_data()\n",
    "x_test = x_test / 255.0 # 데이터 정규화\n",
    "\n",
    "# 모델 불러오기\n",
    "model = load_model('mnist_model.h5')\n",
    "model.summary()\n",
    "model.evaluate(x_test, y_test, verbose=2)\n",
    "\n",
    "# 테스트셋에서 20번째 이미지 출력\n",
    "plt.imshow(x_test[20], cmap=\"gray\")\n",
    "plt.show()\n",
    "\n",
    "# 테스트셋에서 20번째 이미지 클래스 분류\n",
    "picks = [20]\n",
    "predict = model.predict_classes(x_test[picks])\n",
    "print(\"손글씨 이미지 예측값 : \", predict)"
   ]
  },
  {
   "cell_type": "code",
   "execution_count": null,
   "id": "756f7faf",
   "metadata": {},
   "outputs": [],
   "source": []
  }
 ],
 "metadata": {
  "kernelspec": {
   "display_name": "Python 3",
   "language": "python",
   "name": "python3"
  },
  "language_info": {
   "codemirror_mode": {
    "name": "ipython",
    "version": 3
   },
   "file_extension": ".py",
   "mimetype": "text/x-python",
   "name": "python",
   "nbconvert_exporter": "python",
   "pygments_lexer": "ipython3",
   "version": "3.6.9"
  }
 },
 "nbformat": 4,
 "nbformat_minor": 5
}
